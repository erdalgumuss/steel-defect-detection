{
 "cells": [
  {
   "cell_type": "markdown",
   "id": "32aa6ceb-4761-4ef6-a008-f9a0e03c2249",
   "metadata": {},
   "source": [
    "# Steel Defect Segmentation with U-Net (ResNet18 Backbone)\n",
    "\n",
    "Bu notebook, Severstal Steel Defect veri seti üzerinde **U-Net + ResNet18 backbone** kullanarak segmentasyon modeli eğitir.  \n",
    "Proje: [GitHub Repo Linki]  \n"
   ]
  },
  {
   "cell_type": "code",
   "execution_count": null,
   "id": "14b0f6be-9954-4837-8fe3-700d54156f56",
   "metadata": {},
   "outputs": [],
   "source": [
    "!pip install albumentations==1.3.0\n",
    "!pip install opencv-python\n"
   ]
  },
  {
   "cell_type": "markdown",
   "id": "fcfac5fb-f43e-4fdb-bed9-07bd338545ad",
   "metadata": {},
   "source": [
    "3. Kütüphaneler (Code)\n",
    "\n",
    "Buraya torch, albumentations, matplotlib, numpy vs. import’lar gelir.\n",
    "GitHub’daki main.py başındaki importları alabilirsin."
   ]
  },
  {
   "cell_type": "code",
   "execution_count": null,
   "id": "818d45ff-800f-49cd-8c21-e6e9d3fcb473",
   "metadata": {},
   "outputs": [],
   "source": []
  }
 ],
 "metadata": {
  "kernelspec": {
   "display_name": "Python 3 (ipykernel)",
   "language": "python",
   "name": "python3"
  },
  "language_info": {
   "codemirror_mode": {
    "name": "ipython",
    "version": 3
   },
   "file_extension": ".py",
   "mimetype": "text/x-python",
   "name": "python",
   "nbconvert_exporter": "python",
   "pygments_lexer": "ipython3",
   "version": "3.10.14"
  }
 },
 "nbformat": 4,
 "nbformat_minor": 5
}
